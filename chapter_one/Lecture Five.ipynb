{
 "cells": [
  {
   "cell_type": "markdown",
   "metadata": {},
   "source": [
    "# Lecture 5 - Class One\n",
    "\n",
    "## Examples using Counting"
   ]
  },
  {
   "cell_type": "code",
   "execution_count": 51,
   "metadata": {},
   "outputs": [],
   "source": [
    "import collections\n",
    "\n",
    "Card = collections.namedtuple('Card', ['rank', 'suit'])\n",
    "\n",
    "class Deck:\n",
    "    ranks = [str(n) for n in range(2, 11)] + list('JQKA')\n",
    "    suits = 'spades diamonds hearts clubs'.split()\n",
    "    \n",
    "    def __init__(self):\n",
    "        self._cards = [Card(rank, suit) for suit in self.suits\n",
    "                                        for rank in self.ranks]\n",
    "    \n",
    "    def __len__(self):\n",
    "        return len(self._cards)\n",
    "    \n",
    "    def __getitem__(self, position):\n",
    "        return self._cards[position]\n",
    "    \n",
    "deck = Deck()"
   ]
  },
  {
   "cell_type": "markdown",
   "metadata": {},
   "source": [
    "# Question - What is the probability of selecting a spade from a deck?"
   ]
  },
  {
   "cell_type": "code",
   "execution_count": 76,
   "metadata": {},
   "outputs": [
    {
     "name": "stdout",
     "output_type": "stream",
     "text": [
      "0.25019\n"
     ]
    }
   ],
   "source": [
    "import random\n",
    "\n",
    "spades = 0\n",
    "num_selections = 100000\n",
    "for _ in range(num_selections):\n",
    "    card = random.choice(deck)\n",
    "    if card.suit == 'spades':\n",
    "        spades += 1\n",
    "        \n",
    "print(spades/num_selections)"
   ]
  },
  {
   "cell_type": "markdown",
   "metadata": {},
   "source": [
    "# Question - What is the probability of selecting a 2 from a deck?"
   ]
  },
  {
   "cell_type": "code",
   "execution_count": 88,
   "metadata": {},
   "outputs": [
    {
     "name": "stdout",
     "output_type": "stream",
     "text": [
      "0.0771\n"
     ]
    }
   ],
   "source": [
    "import random\n",
    "\n",
    "twos = 0\n",
    "num_selections = 10000\n",
    "for _ in range(num_selections):\n",
    "    card = random.choice(deck)\n",
    "    if card.rank == '2':\n",
    "        twos += 1\n",
    "        \n",
    "print(twos/num_selections)"
   ]
  },
  {
   "cell_type": "code",
   "execution_count": 77,
   "metadata": {},
   "outputs": [
    {
     "data": {
      "text/plain": [
       "0.07692307692307693"
      ]
     },
     "execution_count": 77,
     "metadata": {},
     "output_type": "execute_result"
    }
   ],
   "source": [
    "4/52"
   ]
  },
  {
   "cell_type": "markdown",
   "metadata": {},
   "source": [
    "# Question - What is the probability of getting a non-face card or a spade?"
   ]
  },
  {
   "cell_type": "markdown",
   "metadata": {},
   "source": [
    "## P(spade) = 13/52\n",
    "## P(non-face card) = 36/52\n",
    "### P(spade UNION non-face card) = P(spade) + P(non-face card) - P(spade INTERSECT non-face card)\n",
    "### P(spade UNION non-face card) = 13/52 + 36/52 - 9/52\n",
    "### P(spade UNION non-face card) = 40/52"
   ]
  },
  {
   "cell_type": "markdown",
   "metadata": {},
   "source": [
    "* 2 - 1\n",
    "* 3 - 2\n",
    "* 4 - 3\n",
    "* 5 - 4\n",
    "* 6 - 5\n",
    "* 7 - 6\n",
    "* 8 - 7\n",
    "* 9 - 8\n",
    "* 10 - 9\n",
    "## General Rule: (finish - start) + 1"
   ]
  },
  {
   "cell_type": "code",
   "execution_count": 50,
   "metadata": {},
   "outputs": [
    {
     "name": "stdout",
     "output_type": "stream",
     "text": [
      "True\n"
     ]
    },
    {
     "data": {
      "text/plain": [
       "40"
      ]
     },
     "execution_count": 50,
     "metadata": {},
     "output_type": "execute_result"
    }
   ],
   "source": [
    "set_spades = set([card for card in deck if card.suit == 'spades'])\n",
    "face_card_ranks = list('JQKA')\n",
    "set_non_face = set([card for card in deck if card.rank not in face_card_ranks])\n",
    "spade_intersect_non_face = set_non_face.intersection(set_spades)\n",
    "spade_union_non_face = set_spades.union(set_non_face)\n",
    "print(len(spade_union_non_face) == len(set_spades) + len(set_non_face) - len(spade_intersect_non_face))\n",
    "len(spade_union_non_face)"
   ]
  },
  {
   "cell_type": "markdown",
   "metadata": {},
   "source": [
    "# Question - What is the probability of selecting an odd number from the first 100 numbers?"
   ]
  },
  {
   "cell_type": "code",
   "execution_count": 18,
   "metadata": {},
   "outputs": [
    {
     "name": "stdout",
     "output_type": "stream",
     "text": [
      "0.5\n",
      "And ran in 0.000385284423828125\n"
     ]
    }
   ],
   "source": [
    "import time\n",
    "\n",
    "start = time.time()\n",
    "size = 100\n",
    "odd_numbers = []\n",
    "for i in range(size):\n",
    "    if i % 2 != 0:\n",
    "        odd_numbers.append(i)\n",
    "print(len(odd_numbers)/size)\n",
    "print(\"And ran in\", time.time() - start)"
   ]
  },
  {
   "cell_type": "code",
   "execution_count": 19,
   "metadata": {},
   "outputs": [
    {
     "name": "stdout",
     "output_type": "stream",
     "text": [
      "0.5\n",
      "And ran in 0.0012099742889404297\n"
     ]
    }
   ],
   "source": [
    "size = 100\n",
    "\n",
    "start = time.time()\n",
    "U = list(range(size))\n",
    "even_numbers = list(range(0, size, 2))\n",
    "set_U = set(U)\n",
    "set_even_numbers = set(even_numbers)\n",
    "set_odd_numbers = set_U.difference(set_even_numbers)\n",
    "print(len(set_odd_numbers) / len(set_U))\n",
    "print(\"And ran in\", time.time() - start)"
   ]
  },
  {
   "cell_type": "markdown",
   "metadata": {},
   "source": [
    "# Question - What is the probability of selecting an odd number from the first 100000 numbers?"
   ]
  },
  {
   "cell_type": "code",
   "execution_count": 31,
   "metadata": {},
   "outputs": [
    {
     "name": "stdout",
     "output_type": "stream",
     "text": [
      "0.010455970048904419\n"
     ]
    }
   ],
   "source": [
    "size = 100000\n",
    "\n",
    "time_taken = []\n",
    "for _ in range(1000):\n",
    "    start = time.time()\n",
    "    U = list(range(size))\n",
    "    even_numbers = list(range(0, size, 2))\n",
    "    set_U = set(U)\n",
    "    set_even_numbers = set(even_numbers)\n",
    "    set_odd_numbers = set_U.difference(set_even_numbers)\n",
    "    time_taken.append(time.time() - start)\n",
    "time_taken = np.array(time_taken)\n",
    "print(time_taken.mean())"
   ]
  },
  {
   "cell_type": "code",
   "execution_count": 30,
   "metadata": {},
   "outputs": [
    {
     "name": "stdout",
     "output_type": "stream",
     "text": [
      "0.009716097354888917\n"
     ]
    }
   ],
   "source": [
    "import time\n",
    "import numpy as np\n",
    "\n",
    "time_taken = []\n",
    "for _ in range(1000):\n",
    "    start = time.time()\n",
    "    size = 100000\n",
    "    odd_numbers = []\n",
    "    for i in range(size):\n",
    "        if i % 2 != 0:\n",
    "            odd_numbers.append(i)\n",
    "    time_taken.append(time.time() - start)\n",
    "time_taken = np.array(time_taken)\n",
    "print(time_taken.mean())"
   ]
  },
  {
   "cell_type": "code",
   "execution_count": 32,
   "metadata": {},
   "outputs": [
    {
     "name": "stdout",
     "output_type": "stream",
     "text": [
      "0.003163379669189453\n"
     ]
    }
   ],
   "source": [
    "size = 100000\n",
    "U = list(range(size))\n",
    "even_numbers = list(range(0, size, 2))\n",
    "set_U = set(U)\n",
    "set_even_numbers = set(even_numbers)\n",
    "\n",
    "time_taken = []\n",
    "for _ in range(1000):\n",
    "    start = time.time()    \n",
    "    set_odd_numbers = set_U.difference(set_even_numbers)\n",
    "    time_taken.append(time.time() - start)\n",
    "time_taken = np.array(time_taken)\n",
    "print(time_taken.mean())"
   ]
  },
  {
   "cell_type": "markdown",
   "metadata": {},
   "source": [
    "## Question - What is the probability that a randomly selected odd number from the set of natural numbers is odd?"
   ]
  },
  {
   "cell_type": "markdown",
   "metadata": {},
   "source": [
    "# n(N) - n(Even Numbers) = n(Odd Numbers)"
   ]
  },
  {
   "cell_type": "markdown",
   "metadata": {},
   "source": [
    "## Within the Reals what is the probability of selecting a Rational Number?  \n",
    "\n",
    "## Within the Reals what is the probability of selecting a Irrational Number?\n",
    "\n",
    "## Within the Reals what is the probability of selecting a Natural Number?"
   ]
  },
  {
   "cell_type": "markdown",
   "metadata": {},
   "source": [
    "# Definition Rational := a,b contained in N -> a/b is rational\n",
    "\n",
    "# Definition Irrational := z contained in "
   ]
  }
 ],
 "metadata": {
  "kernelspec": {
   "display_name": "Python 3",
   "language": "python",
   "name": "python3"
  },
  "language_info": {
   "codemirror_mode": {
    "name": "ipython",
    "version": 3
   },
   "file_extension": ".py",
   "mimetype": "text/x-python",
   "name": "python",
   "nbconvert_exporter": "python",
   "pygments_lexer": "ipython3",
   "version": "3.6.3"
  }
 },
 "nbformat": 4,
 "nbformat_minor": 2
}
