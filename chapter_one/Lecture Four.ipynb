{
 "cells": [
  {
   "cell_type": "markdown",
   "metadata": {},
   "source": [
    "# Lecture Four - Class Two\n",
    "\n",
    "## Counting"
   ]
  },
  {
   "cell_type": "markdown",
   "metadata": {},
   "source": [
    "## n(U) = n(A) + n(A')"
   ]
  },
  {
   "cell_type": "code",
   "execution_count": 6,
   "metadata": {},
   "outputs": [
    {
     "data": {
      "text/plain": [
       "True"
      ]
     },
     "execution_count": 6,
     "metadata": {},
     "output_type": "execute_result"
    }
   ],
   "source": [
    "import random\n",
    "U = list(range(100))\n",
    "A_index = set([random.randint(0, 50) for _ in range(35)])\n",
    "set_A = set([U[index] for index in A_index])\n",
    "set_U = set(U)\n",
    "set_A_complement = set_U.difference(set_A)\n",
    "A_union_A_complement = set_A.union(set_A_complement)\n",
    "len(A_union_A_complement) == len(set_A) + len(set_A_complement)"
   ]
  },
  {
   "cell_type": "markdown",
   "metadata": {},
   "source": [
    "## n(U) = n(A[0]) + n(A[1]) + ... + n(A[n])"
   ]
  },
  {
   "cell_type": "code",
   "execution_count": 23,
   "metadata": {},
   "outputs": [],
   "source": [
    "disjoint_sets = []\n",
    "U = list(range(1000))\n",
    "while len(U) > 1:\n",
    "    selection = set([random.randint(0, len(U)-1) for _ in range(5)])\n",
    "    A = set([U[index] for index in selection])\n",
    "    set_U = set(U)\n",
    "    disjoint_sets.append(A)\n",
    "    set_U = set_U.difference(A)\n",
    "    U = list(set_U)"
   ]
  },
  {
   "cell_type": "code",
   "execution_count": 28,
   "metadata": {},
   "outputs": [
    {
     "data": {
      "text/plain": [
       "True"
      ]
     },
     "execution_count": 28,
     "metadata": {},
     "output_type": "execute_result"
    }
   ],
   "source": [
    "import itertools\n",
    "\n",
    "all([elem[0].isdisjoint(elem[1]) for elem in itertools.permutations(disjoint_sets, 2)])"
   ]
  },
  {
   "cell_type": "code",
   "execution_count": 29,
   "metadata": {},
   "outputs": [
    {
     "data": {
      "text/plain": [
       "True"
      ]
     },
     "execution_count": 29,
     "metadata": {},
     "output_type": "execute_result"
    }
   ],
   "source": [
    "U = list(range(1000))\n",
    "len(U) == sum([len(elem) for elem in disjoint_sets])"
   ]
  },
  {
   "cell_type": "markdown",
   "metadata": {},
   "source": [
    "## n(U) - n(A) = n(A')"
   ]
  },
  {
   "cell_type": "code",
   "execution_count": 30,
   "metadata": {},
   "outputs": [
    {
     "data": {
      "text/plain": [
       "True"
      ]
     },
     "execution_count": 30,
     "metadata": {},
     "output_type": "execute_result"
    }
   ],
   "source": [
    "import random\n",
    "U = list(range(100))\n",
    "A_index = set([random.randint(0, 50) for _ in range(35)])\n",
    "set_A = set([U[index] for index in A_index])\n",
    "set_U = set(U)\n",
    "set_A_complement = set_U.difference(set_A)\n",
    "len(U) - len(set_A) == len(set_A_complement)"
   ]
  },
  {
   "cell_type": "markdown",
   "metadata": {},
   "source": [
    "## n(A) = n(A intersect B) + n(A intersect B')"
   ]
  },
  {
   "cell_type": "code",
   "execution_count": 34,
   "metadata": {},
   "outputs": [
    {
     "data": {
      "text/plain": [
       "True"
      ]
     },
     "execution_count": 34,
     "metadata": {},
     "output_type": "execute_result"
    }
   ],
   "source": [
    "def add_indices(U, A_index):\n",
    "    A_index = list(A_index)\n",
    "    B_index = A_index[:]\n",
    "    while len(B_index) < len(A_index)+5:\n",
    "        candidate = random.randint(0, len(U) - 1)\n",
    "        if candidate not in A_index:\n",
    "            B_index.append(candidate)\n",
    "    return B_index\n",
    "\n",
    "U = list(range(100))\n",
    "A_index = set([random.randint(0, 50) for _ in range(35)])\n",
    "set_A = set([U[index] for index in A_index])\n",
    "B_index = add_indices(U, A_index)\n",
    "set_B = set([U[index] for index in B_index])\n",
    "set_U = set(U)\n",
    "A_intersect_B = set_A.intersection(set_B)\n",
    "set_B_complement = set_U.difference(set_B)\n",
    "A_intersect_B_complement = set_A.intersection(set_B_complement)\n",
    "len(set_A) == len(A_intersect_B) + len(A_intersect_B_complement) "
   ]
  },
  {
   "cell_type": "markdown",
   "metadata": {},
   "source": [
    "# Corrollaries"
   ]
  },
  {
   "cell_type": "markdown",
   "metadata": {},
   "source": [
    "## n(A) - n(A intersect B) = n(A intersect B')"
   ]
  },
  {
   "cell_type": "markdown",
   "metadata": {},
   "source": [
    "## n(B) - n(A intersect B) = n(A' intersect B)"
   ]
  },
  {
   "cell_type": "markdown",
   "metadata": {},
   "source": [
    "## n(A union B) = n(A) + n(B) - n(A intersect B) "
   ]
  },
  {
   "cell_type": "code",
   "execution_count": 36,
   "metadata": {},
   "outputs": [
    {
     "data": {
      "text/plain": [
       "True"
      ]
     },
     "execution_count": 36,
     "metadata": {},
     "output_type": "execute_result"
    }
   ],
   "source": [
    "def add_indices(U, A_index):\n",
    "    A_index = list(A_index)\n",
    "    B_index = A_index[:]\n",
    "    while len(B_index) < len(A_index)+5:\n",
    "        candidate = random.randint(0, len(U) - 1)\n",
    "        if candidate not in A_index:\n",
    "            B_index.append(candidate)\n",
    "    return B_index\n",
    "\n",
    "U = list(range(100))\n",
    "A_index = set([random.randint(0, 50) for _ in range(35)])\n",
    "set_A = set([U[index] for index in A_index])\n",
    "B_index = add_indices(U, A_index)\n",
    "set_B = set([U[index] for index in B_index])\n",
    "set_U = set(U)\n",
    "A_intersect_B = set_A.intersection(set_B)\n",
    "A_union_B = set_A.union(set_B)\n",
    "len(A_union_B) == len(set_A) + len(set_B) - len(A_intersect_B)  "
   ]
  },
  {
   "cell_type": "markdown",
   "metadata": {},
   "source": [
    "## Problem\n",
    "\n",
    "Suppose A, B, and C are three subsets of U and the following data are given:\n",
    "\n",
    "* n(U) = 150\n",
    "* n(A) = 35\n",
    "* n(B) = 40\n",
    "* n(C) = 45\n",
    "* n(A intersect B) = 10\n",
    "* n(A intersect C) = 7\n",
    "* n(B intersect C) = 6\n",
    "* n(A intersect B intersect C) = 2\n",
    "\n",
    "determine:\n",
    "\n",
    "* n(A intersect B intersect C')\n",
    "* n(A intersect B' intersect C')\n",
    "* n(A union B union C)\n",
    "* n(A' intersect B' intersect C')"
   ]
  },
  {
   "cell_type": "code",
   "execution_count": null,
   "metadata": {},
   "outputs": [],
   "source": []
  }
 ],
 "metadata": {
  "kernelspec": {
   "display_name": "Python 3",
   "language": "python",
   "name": "python3"
  },
  "language_info": {
   "codemirror_mode": {
    "name": "ipython",
    "version": 3
   },
   "file_extension": ".py",
   "mimetype": "text/x-python",
   "name": "python",
   "nbconvert_exporter": "python",
   "pygments_lexer": "ipython3",
   "version": "3.6.3"
  }
 },
 "nbformat": 4,
 "nbformat_minor": 2
}
