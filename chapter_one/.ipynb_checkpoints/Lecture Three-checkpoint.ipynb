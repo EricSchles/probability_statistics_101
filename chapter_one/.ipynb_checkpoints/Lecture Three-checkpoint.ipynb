{
 "cells": [
  {
   "cell_type": "markdown",
   "metadata": {},
   "source": [
    "# Class Two - Lecture One\n",
    "\n",
    "## Some Set Theory"
   ]
  },
  {
   "cell_type": "markdown",
   "metadata": {},
   "source": [
    "# Definition\n",
    "\n",
    "_Set_ := a collection of distinct mathematical objects"
   ]
  },
  {
   "cell_type": "code",
   "execution_count": 4,
   "metadata": {},
   "outputs": [
    {
     "name": "stdout",
     "output_type": "stream",
     "text": [
      "{1, 2, 5, 7, 10, 12, 15, 16, 18, 19, 20, 22, 25, 27, 28, 29, 31}\n",
      "{2, 10, 13, 14, 15, 17, 19, 20, 22, 23, 26, 27, 30, 31}\n"
     ]
    }
   ],
   "source": [
    "# Example\n",
    "\n",
    "import random\n",
    "\n",
    "listing_A = [random.randint(1, 35) for _ in range(20)]\n",
    "listing_A.sort()\n",
    "set_A = set(listing_A)\n",
    "listing_B = [random.randint(1, 35) for _ in range(20)]\n",
    "listing_B.sort()\n",
    "set_B = set(listing_B)\n",
    "\n",
    "print(set_A)\n",
    "print(set_B)"
   ]
  },
  {
   "cell_type": "markdown",
   "metadata": {},
   "source": [
    "# Set operators\n",
    "\n",
    "## Containment"
   ]
  },
  {
   "cell_type": "code",
   "execution_count": 12,
   "metadata": {},
   "outputs": [
    {
     "name": "stdout",
     "output_type": "stream",
     "text": [
      "Help on built-in function issubset:\n",
      "\n",
      "issubset(...) method of builtins.set instance\n",
      "    Report whether another set contains this set.\n",
      "\n"
     ]
    }
   ],
   "source": [
    "help(set_A.issubset)"
   ]
  },
  {
   "cell_type": "code",
   "execution_count": 8,
   "metadata": {},
   "outputs": [
    {
     "data": {
      "text/plain": [
       "True"
      ]
     },
     "execution_count": 8,
     "metadata": {},
     "output_type": "execute_result"
    }
   ],
   "source": [
    "set_A = set([1,2,3])\n",
    "set_B = set([1,2,3,4])\n",
    "set_A.issubset(set_B)"
   ]
  },
  {
   "cell_type": "markdown",
   "metadata": {},
   "source": [
    "# Differencing and Complement"
   ]
  },
  {
   "cell_type": "code",
   "execution_count": 13,
   "metadata": {},
   "outputs": [
    {
     "name": "stdout",
     "output_type": "stream",
     "text": [
      "Help on built-in function difference:\n",
      "\n",
      "difference(...) method of builtins.set instance\n",
      "    Return the difference of two or more sets as a new set.\n",
      "    \n",
      "    (i.e. all elements that are in this set but not the others.)\n",
      "\n"
     ]
    }
   ],
   "source": [
    "help(set_U.difference)"
   ]
  },
  {
   "cell_type": "code",
   "execution_count": 20,
   "metadata": {},
   "outputs": [
    {
     "name": "stdout",
     "output_type": "stream",
     "text": [
      "{0, 1, 2, 3}\n",
      "{4, 5, 6, 7, 8, 9}\n"
     ]
    }
   ],
   "source": [
    "set_U = set(list(range(10)))\n",
    "set_A = set(list(range(4)))\n",
    "set_A_complement = set_U.difference(set_A)\n",
    "print(set_A)\n",
    "print(set_A_complement)"
   ]
  },
  {
   "cell_type": "markdown",
   "metadata": {},
   "source": [
    "# Union"
   ]
  },
  {
   "cell_type": "code",
   "execution_count": 15,
   "metadata": {},
   "outputs": [
    {
     "name": "stdout",
     "output_type": "stream",
     "text": [
      "Help on built-in function union:\n",
      "\n",
      "union(...) method of builtins.set instance\n",
      "    Return the union of sets as a new set.\n",
      "    \n",
      "    (i.e. all elements that are in either set.)\n",
      "\n"
     ]
    }
   ],
   "source": [
    "help(set_A.union)"
   ]
  },
  {
   "cell_type": "code",
   "execution_count": 16,
   "metadata": {},
   "outputs": [
    {
     "name": "stdout",
     "output_type": "stream",
     "text": [
      "{0, 2, 4, 5, 6, 8, 10, 12, 14, 15, 16, 18, 20, 22, 24, 26, 28}\n",
      "True\n"
     ]
    }
   ],
   "source": [
    "set_A = set(list(range(5, 25, 5)))\n",
    "set_B = set(list(range(0, 30, 2)))\n",
    "print(set_A.union(set_B))\n",
    "print(set_A.union(set_B) == set_B.union(set_A))"
   ]
  },
  {
   "cell_type": "markdown",
   "metadata": {},
   "source": [
    "# Intersection"
   ]
  },
  {
   "cell_type": "code",
   "execution_count": 17,
   "metadata": {},
   "outputs": [
    {
     "name": "stdout",
     "output_type": "stream",
     "text": [
      "Help on built-in function intersection:\n",
      "\n",
      "intersection(...) method of builtins.set instance\n",
      "    Return the intersection of two sets as a new set.\n",
      "    \n",
      "    (i.e. all elements that are in both sets.)\n",
      "\n"
     ]
    }
   ],
   "source": [
    "help(set_A.intersection)"
   ]
  },
  {
   "cell_type": "code",
   "execution_count": 18,
   "metadata": {},
   "outputs": [
    {
     "name": "stdout",
     "output_type": "stream",
     "text": [
      "{10, 20}\n",
      "True\n"
     ]
    }
   ],
   "source": [
    "set_A = set(list(range(5, 25, 5)))\n",
    "set_B = set(list(range(0, 30, 2)))\n",
    "print(set_A.intersection(set_B))\n",
    "print(set_A.intersection(set_B) == set_B.intersection(set_A))"
   ]
  },
  {
   "cell_type": "code",
   "execution_count": 9,
   "metadata": {},
   "outputs": [
    {
     "data": {
      "text/plain": [
       "['add',\n",
       " 'clear',\n",
       " 'copy',\n",
       " 'difference',\n",
       " 'discard',\n",
       " 'intersection',\n",
       " 'isdisjoint',\n",
       " 'issubset',\n",
       " 'issuperset',\n",
       " 'pop',\n",
       " 'remove',\n",
       " 'union',\n",
       " 'update']"
      ]
     },
     "execution_count": 9,
     "metadata": {},
     "output_type": "execute_result"
    }
   ],
   "source": [
    "[elem for elem in dir(set_A) if \"_\" not in elem]"
   ]
  },
  {
   "cell_type": "markdown",
   "metadata": {},
   "source": [
    "# Set equations\n",
    "\n",
    "## (A union B)' == A' intersect B'"
   ]
  },
  {
   "cell_type": "code",
   "execution_count": 29,
   "metadata": {},
   "outputs": [
    {
     "name": "stdout",
     "output_type": "stream",
     "text": [
      "True\n"
     ]
    }
   ],
   "source": [
    "def lhs(A, B, U):\n",
    "    union = A.union(B)\n",
    "    return U.difference(union)\n",
    "\n",
    "def rhs(A, B, U):\n",
    "    A_complement = U.difference(A)\n",
    "    B_complement = U.difference(B)\n",
    "    return A_complement.intersection(B_complement)\n",
    "\n",
    "U = list(set([random.randint(0,1000) for _ in range(500)]))\n",
    "A_index = set([random.randint(0, 49) for _ in range(25)])\n",
    "A = set([U[index] for index in A_index])\n",
    "B_index = set([random.randint(0, 49) for _ in range(17)])\n",
    "B = set([U[index] for index in B_index])\n",
    "U = set(U)\n",
    "\n",
    "cases = []\n",
    "for _ in range(50):\n",
    "    cases.append(lhs(A, B, U) == rhs(A, B, U))\n",
    "print(all(cases))"
   ]
  },
  {
   "cell_type": "markdown",
   "metadata": {},
   "source": [
    "## (A intersect B)' == A' union B'"
   ]
  },
  {
   "cell_type": "code",
   "execution_count": 31,
   "metadata": {},
   "outputs": [
    {
     "name": "stdout",
     "output_type": "stream",
     "text": [
      "True\n"
     ]
    }
   ],
   "source": [
    "def lhs(A, B, U):\n",
    "    intersection = A.intersection(B)\n",
    "    return U.difference(intersection)\n",
    "\n",
    "def rhs(A, B, U):\n",
    "    A_complement = U.difference(A)\n",
    "    B_complement = U.difference(B)\n",
    "    return A_complement.union(B_complement)\n",
    "\n",
    "U = list(set([random.randint(0,1000) for _ in range(500)]))\n",
    "A_index = set([random.randint(0, 49) for _ in range(25)])\n",
    "A = set([U[index] for index in A_index])\n",
    "B_index = set([random.randint(0, 49) for _ in range(17)])\n",
    "B = set([U[index] for index in B_index])\n",
    "U = set(U)\n",
    "\n",
    "cases = []\n",
    "for _ in range(50):\n",
    "    cases.append(lhs(A, B, U) == rhs(A, B, U))\n",
    "print(all(cases))"
   ]
  },
  {
   "cell_type": "markdown",
   "metadata": {},
   "source": [
    "## (A intersect B) union C == (A union C ) intersect (B union C)"
   ]
  },
  {
   "cell_type": "code",
   "execution_count": 40,
   "metadata": {},
   "outputs": [
    {
     "name": "stdout",
     "output_type": "stream",
     "text": [
      "True\n"
     ]
    }
   ],
   "source": [
    "def lhs(A, B, C):\n",
    "    intersection = A.intersection(B)\n",
    "    return intersection.union(C)\n",
    "\n",
    "def rhs(A, B, C):\n",
    "    A_union_C = A.union(C)\n",
    "    B_union_C = C.union(C)\n",
    "    return A_union_C.intersection(B_union_C)\n",
    "\n",
    "U = list(set([random.randint(0,1000) for _ in range(500)]))\n",
    "A_index = set([random.randint(0, 49) for _ in range(25)])\n",
    "A = set([U[index] for index in A_index])\n",
    "B_index = set([random.randint(0, 49) for _ in range(17)])\n",
    "B = set([U[index] for index in B_index])\n",
    "C_index = set([random.randint(0, 35) for _ in range(12)])\n",
    "C = set([U[index] for index in C_index])\n",
    "\n",
    "cases = []\n",
    "for _ in range(50):\n",
    "    cases.append([lhs(A, B, C) == rhs(A, B, C)])\n",
    "print(all(cases))\n"
   ]
  },
  {
   "cell_type": "markdown",
   "metadata": {},
   "source": [
    "## (A union B) intersect C == (A intersect C ) union (B intersect C)"
   ]
  },
  {
   "cell_type": "code",
   "execution_count": 41,
   "metadata": {},
   "outputs": [
    {
     "name": "stdout",
     "output_type": "stream",
     "text": [
      "True\n"
     ]
    }
   ],
   "source": [
    "def lhs(A, B, C):\n",
    "    union = A.union(B)\n",
    "    return union.intersection(C)\n",
    "\n",
    "def rhs(A, B, C):\n",
    "    A_intersect_C = A.intersection(C)\n",
    "    B_intersect_C = C.intersection(C)\n",
    "    return A_intersect_C.union(B_intersect_C)\n",
    "\n",
    "U = list(set([random.randint(0,1000) for _ in range(500)]))\n",
    "A_index = set([random.randint(0, 49) for _ in range(25)])\n",
    "A = set([U[index] for index in A_index])\n",
    "B_index = set([random.randint(0, 49) for _ in range(17)])\n",
    "B = set([U[index] for index in B_index])\n",
    "C_index = set([random.randint(0, 35) for _ in range(12)])\n",
    "C = set([U[index] for index in C_index])\n",
    "\n",
    "cases = []\n",
    "for _ in range(50):\n",
    "    cases.append([lhs(A, B, C) == rhs(A, B, C)])\n",
    "print(all(cases))"
   ]
  },
  {
   "cell_type": "code",
   "execution_count": null,
   "metadata": {},
   "outputs": [],
   "source": []
  }
 ],
 "metadata": {
  "kernelspec": {
   "display_name": "Python 3",
   "language": "python",
   "name": "python3"
  },
  "language_info": {
   "codemirror_mode": {
    "name": "ipython",
    "version": 3
   },
   "file_extension": ".py",
   "mimetype": "text/x-python",
   "name": "python",
   "nbconvert_exporter": "python",
   "pygments_lexer": "ipython3",
   "version": "3.6.3"
  }
 },
 "nbformat": 4,
 "nbformat_minor": 2
}
