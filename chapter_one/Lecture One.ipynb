{
 "cells": [
  {
   "cell_type": "markdown",
   "metadata": {},
   "source": [
    "# Class One - Lecture one\n",
    "\n",
    "## A beginning"
   ]
  },
  {
   "cell_type": "code",
   "execution_count": 16,
   "metadata": {},
   "outputs": [],
   "source": [
    "from prettytable import PrettyTable\n",
    "import math"
   ]
  },
  {
   "cell_type": "code",
   "execution_count": 1,
   "metadata": {},
   "outputs": [],
   "source": [
    "import random\n",
    "\n",
    "\n",
    "def generate_test_scores(size=10):\n",
    "    return [random.randint(60, 100) for _ in range(size)]\n",
    "\n",
    "data = generate_test_scores()"
   ]
  },
  {
   "cell_type": "markdown",
   "metadata": {},
   "source": [
    "# Question One \n",
    "\n",
    "## What is the frequency of each grade? "
   ]
  },
  {
   "cell_type": "code",
   "execution_count": 2,
   "metadata": {},
   "outputs": [
    {
     "name": "stdout",
     "output_type": "stream",
     "text": [
      "66 : 1\n",
      "67 : 1\n",
      "71 : 1\n",
      "81 : 1\n",
      "82 : 1\n",
      "84 : 1\n",
      "88 : 1\n",
      "89 : 1\n",
      "90 : 1\n",
      "93 : 1\n"
     ]
    }
   ],
   "source": [
    "unique_grades = list(set(data))\n",
    "grade_freq = {}.fromkeys(unique_grades, 0)\n",
    "\n",
    "for grade in data:\n",
    "    grade_freq[grade] += 1\n",
    "\n",
    "for grade in grade_freq:\n",
    "    print(grade, \":\", grade_freq[grade])"
   ]
  },
  {
   "cell_type": "markdown",
   "metadata": {},
   "source": [
    "# Question Two\n",
    "\n",
    "## What is the mean value of the grades?\n"
   ]
  },
  {
   "cell_type": "code",
   "execution_count": 5,
   "metadata": {},
   "outputs": [
    {
     "name": "stdout",
     "output_type": "stream",
     "text": [
      "81.1\n"
     ]
    }
   ],
   "source": [
    "numerator = sum([grade * grade_freq[grade] for grade in grade_freq])\n",
    "mean = numerator/len(data)\n",
    "print(mean)"
   ]
  },
  {
   "cell_type": "markdown",
   "metadata": {},
   "source": [
    "# Question Three\n",
    "\n",
    "## How spread out are the grades?"
   ]
  },
  {
   "cell_type": "code",
   "execution_count": 15,
   "metadata": {},
   "outputs": [
    {
     "name": "stdout",
     "output_type": "stream",
     "text": [
      "+--------------+-------+-------+-------+------+-----+-----+-----+-----+-----+------+\n",
      "| Grade - Mean | -15.1 | -14.1 | -10.1 | -0.1 | 0.9 | 2.9 | 6.9 | 7.9 | 8.9 | 11.9 |\n",
      "+--------------+-------+-------+-------+------+-----+-----+-----+-----+-----+------+\n",
      "|  Frequency   |   1   |   1   |   1   |  1   |  1  |  1  |  1  |  1  |  1  |  1   |\n",
      "+--------------+-------+-------+-------+------+-----+-----+-----+-----+-----+------+\n"
     ]
    }
   ],
   "source": [
    "p = PrettyTable([\"Grade - Mean\"] + [round(grade - mean, 1) for grade in grade_freq])\n",
    "p.add_row([\"Frequency\"] +[grade_freq[grade] for grade in grade_freq])\n",
    "print(p)"
   ]
  },
  {
   "cell_type": "markdown",
   "metadata": {},
   "source": [
    "The magnitude of all the values tell us how far away the given value is from the mean.  A negative sign says the value is below the mean or to the left of the mean, on a number line.  A positive value means the value is greater than the mean or to the right on the number line.\n",
    "\n",
    "Typically for notional convenience we'll square these values to get ride of the negative numbers.  We call this quantity the variance."
   ]
  },
  {
   "cell_type": "code",
   "execution_count": 17,
   "metadata": {},
   "outputs": [
    {
     "name": "stdout",
     "output_type": "stream",
     "text": [
      "86.89000000000001\n"
     ]
    }
   ],
   "source": [
    "numerator = sum([math.pow(grade - mean, 2) * grade_freq[grade] for grade in grade_freq])\n",
    "variance = numerator / len(data)\n",
    "print(variance)"
   ]
  }
 ],
 "metadata": {
  "kernelspec": {
   "display_name": "Python 3",
   "language": "python",
   "name": "python3"
  },
  "language_info": {
   "codemirror_mode": {
    "name": "ipython",
    "version": 3
   },
   "file_extension": ".py",
   "mimetype": "text/x-python",
   "name": "python",
   "nbconvert_exporter": "python",
   "pygments_lexer": "ipython3",
   "version": "3.6.3"
  }
 },
 "nbformat": 4,
 "nbformat_minor": 2
}
