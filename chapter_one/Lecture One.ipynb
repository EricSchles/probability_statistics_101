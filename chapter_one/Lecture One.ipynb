{
 "cells": [
  {
   "cell_type": "markdown",
   "metadata": {},
   "source": [
    "# Class One - Lecture one\n",
    "\n",
    "## A beginning"
   ]
  },
  {
   "cell_type": "code",
   "execution_count": 16,
   "metadata": {},
   "outputs": [],
   "source": [
    "from prettytable import PrettyTable\n",
    "import math"
   ]
  },
  {
   "cell_type": "code",
   "execution_count": 21,
   "metadata": {},
   "outputs": [
    {
     "name": "stdout",
     "output_type": "stream",
     "text": [
      "Help on method randint in module random:\n",
      "\n",
      "randint(a, b) method of random.Random instance\n",
      "    Return random integer in range [a, b], including both end points.\n",
      "\n"
     ]
    }
   ],
   "source": [
    "help(random.randint)"
   ]
  },
  {
   "cell_type": "code",
   "execution_count": 23,
   "metadata": {},
   "outputs": [
    {
     "data": {
      "text/plain": [
       "True"
      ]
     },
     "execution_count": 23,
     "metadata": {},
     "output_type": "execute_result"
    }
   ],
   "source": [
    "listing_one = [elem for elem in range(10)]\n",
    "# ==\n",
    "listing_two = []\n",
    "for elem in range(10):\n",
    "    listing_two.append(elem)\n",
    "    \n",
    "listing_one == listing_two"
   ]
  },
  {
   "cell_type": "code",
   "execution_count": 24,
   "metadata": {},
   "outputs": [],
   "source": [
    "import random\n",
    "\n",
    "\n",
    "def generate_test_scores(size=10):\n",
    "    return [random.randint(60, 100) for _ in range(size)]\n",
    "\n",
    "data = generate_test_scores()"
   ]
  },
  {
   "cell_type": "markdown",
   "metadata": {},
   "source": [
    "# Question One \n",
    "\n",
    "## What is the frequency of each grade? "
   ]
  },
  {
   "cell_type": "code",
   "execution_count": 25,
   "metadata": {},
   "outputs": [
    {
     "name": "stdout",
     "output_type": "stream",
     "text": [
      "96 : 1\n",
      "100 : 1\n",
      "71 : 1\n",
      "74 : 1\n",
      "75 : 1\n",
      "61 : 1\n",
      "87 : 1\n",
      "88 : 1\n",
      "93 : 1\n",
      "63 : 1\n"
     ]
    }
   ],
   "source": [
    "unique_grades = list(set(data))\n",
    "grade_freq = {}.fromkeys(unique_grades, 0)\n",
    "\n",
    "for grade in data:\n",
    "    grade_freq[grade] += 1\n",
    "\n",
    "for grade in grade_freq:\n",
    "    print(grade, \":\", grade_freq[grade])"
   ]
  },
  {
   "cell_type": "markdown",
   "metadata": {},
   "source": [
    "# Question Two\n",
    "\n",
    "## What is the mean value of the grades?\n"
   ]
  },
  {
   "cell_type": "code",
   "execution_count": 26,
   "metadata": {},
   "outputs": [
    {
     "name": "stdout",
     "output_type": "stream",
     "text": [
      "80.8\n"
     ]
    }
   ],
   "source": [
    "numerator = sum([grade * grade_freq[grade] for grade in grade_freq])\n",
    "mean = numerator/len(data)\n",
    "print(mean)"
   ]
  },
  {
   "cell_type": "markdown",
   "metadata": {},
   "source": [
    "# Question Three\n",
    "\n",
    "## How spread out are the grades?"
   ]
  },
  {
   "cell_type": "code",
   "execution_count": 27,
   "metadata": {},
   "outputs": [
    {
     "name": "stdout",
     "output_type": "stream",
     "text": [
      "+--------------+------+------+------+------+------+-------+-----+-----+------+-------+\n",
      "| Grade - Mean | 15.2 | 19.2 | -9.8 | -6.8 | -5.8 | -19.8 | 6.2 | 7.2 | 12.2 | -17.8 |\n",
      "+--------------+------+------+------+------+------+-------+-----+-----+------+-------+\n",
      "|  Frequency   |  1   |  1   |  1   |  1   |  1   |   1   |  1  |  1  |  1   |   1   |\n",
      "+--------------+------+------+------+------+------+-------+-----+-----+------+-------+\n"
     ]
    }
   ],
   "source": [
    "p = PrettyTable([\"Grade - Mean\"] + [round(grade - mean, 1) for grade in grade_freq])\n",
    "p.add_row([\"Frequency\"] +[grade_freq[grade] for grade in grade_freq])\n",
    "print(p)"
   ]
  },
  {
   "cell_type": "markdown",
   "metadata": {},
   "source": [
    "The magnitude of all the values tell us how far away the given value is from the mean.  A negative sign says the value is below the mean or to the left of the mean, on a number line.  A positive value means the value is greater than the mean or to the right on the number line.\n",
    "\n",
    "Typically for notional convenience we'll square these values to get ride of the negative numbers.  We call this quantity the variance."
   ]
  },
  {
   "cell_type": "code",
   "execution_count": 17,
   "metadata": {},
   "outputs": [
    {
     "name": "stdout",
     "output_type": "stream",
     "text": [
      "86.89000000000001\n"
     ]
    }
   ],
   "source": [
    "numerator = sum([math.pow(grade - mean, 2) * grade_freq[grade] for grade in grade_freq])\n",
    "variance = numerator / len(data)\n",
    "print(variance)"
   ]
  },
  {
   "cell_type": "code",
   "execution_count": 30,
   "metadata": {},
   "outputs": [
    {
     "name": "stdout",
     "output_type": "stream",
     "text": [
      "9.321480569094161\n"
     ]
    }
   ],
   "source": [
    "std = math.pow(variance, 0.5)\n",
    "print(std)"
   ]
  },
  {
   "cell_type": "code",
   "execution_count": 38,
   "metadata": {},
   "outputs": [],
   "source": [
    "lower_bound = mean - std*1.5\n",
    "upper_bound = mean + std*1.5\n",
    "within_bounds = [elem for elem in data if elem >= lower_bound and elem <= upper_bound]"
   ]
  },
  {
   "cell_type": "code",
   "execution_count": 39,
   "metadata": {},
   "outputs": [
    {
     "data": {
      "text/plain": [
       "(6, 10)"
      ]
     },
     "execution_count": 39,
     "metadata": {},
     "output_type": "execute_result"
    }
   ],
   "source": [
    "len(within_bounds), len(data)"
   ]
  },
  {
   "cell_type": "code",
   "execution_count": 40,
   "metadata": {},
   "outputs": [
    {
     "data": {
      "text/plain": [
       "[88, 71, 87, 93, 74, 75]"
      ]
     },
     "execution_count": 40,
     "metadata": {},
     "output_type": "execute_result"
    }
   ],
   "source": [
    "within_bounds"
   ]
  }
 ],
 "metadata": {
  "kernelspec": {
   "display_name": "Python 3",
   "language": "python",
   "name": "python3"
  },
  "language_info": {
   "codemirror_mode": {
    "name": "ipython",
    "version": 3
   },
   "file_extension": ".py",
   "mimetype": "text/x-python",
   "name": "python",
   "nbconvert_exporter": "python",
   "pygments_lexer": "ipython3",
   "version": "3.6.3"
  }
 },
 "nbformat": 4,
 "nbformat_minor": 2
}
