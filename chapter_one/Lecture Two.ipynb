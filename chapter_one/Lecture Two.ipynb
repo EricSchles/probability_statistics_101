{
 "cells": [
  {
   "cell_type": "markdown",
   "metadata": {},
   "source": [
    "# Class One - Lecture Two\n",
    "\n",
    "## A Continuation"
   ]
  },
  {
   "cell_type": "code",
   "execution_count": 22,
   "metadata": {},
   "outputs": [],
   "source": [
    "from prettytable import PrettyTable\n",
    "import math"
   ]
  },
  {
   "cell_type": "code",
   "execution_count": 3,
   "metadata": {},
   "outputs": [],
   "source": [
    "import random\n",
    "\n",
    "def generate_test_scores(size=10):\n",
    "    return [random.randint(80, 100) for _ in range(size)]\n",
    "\n",
    "data = generate_test_scores(size=10000)"
   ]
  },
  {
   "cell_type": "markdown",
   "metadata": {},
   "source": [
    "_Discrete probability:_\n",
    "\n",
    "**Ratio of frequency of occurrence of a given value and the total frequency of occurrence of all values.** "
   ]
  },
  {
   "cell_type": "markdown",
   "metadata": {},
   "source": [
    "## Why are probabilities great?\n",
    "\n",
    "### Set up:\n",
    "\n",
    "Suppose we have a keeper of datasets and we want to ask about two such data sets:\n",
    "\n",
    "The number of people alive and the number of people dead.\n",
    "\n",
    "Ages of people alive in 1990, May 4th and Ages of people who are dead 1990, May 4th.\n",
    "\n",
    "How many people are alive and 17? 500,000\n",
    "How many people are dead and 17? 1,000,000,000,000,000\n",
    "\n",
    "What is the probability of being alive and 17? 0.08\n",
    "What is the probability of being dead and 17? 0.06"
   ]
  },
  {
   "cell_type": "markdown",
   "metadata": {},
   "source": [
    "# Question One\n",
    "\n",
    "## What is the probability a student gets a given score? "
   ]
  },
  {
   "cell_type": "code",
   "execution_count": 21,
   "metadata": {},
   "outputs": [
    {
     "name": "stdout",
     "output_type": "stream",
     "text": [
      "80 : 0.047\n",
      "81 : 0.0461\n",
      "82 : 0.0451\n",
      "83 : 0.0505\n",
      "84 : 0.0493\n",
      "85 : 0.0484\n",
      "86 : 0.0498\n",
      "87 : 0.0463\n",
      "88 : 0.0453\n",
      "89 : 0.0466\n",
      "90 : 0.0481\n",
      "91 : 0.0472\n",
      "92 : 0.0477\n",
      "93 : 0.0481\n",
      "94 : 0.0458\n",
      "95 : 0.0512\n",
      "96 : 0.0467\n",
      "97 : 0.0472\n",
      "98 : 0.047\n",
      "99 : 0.0506\n",
      "100 : 0.046\n"
     ]
    }
   ],
   "source": [
    "unique_grades = list(set(data))\n",
    "grade_freq = {}.fromkeys(unique_grades, 0)\n",
    "\n",
    "for grade in data:\n",
    "    grade_freq[grade] += 1\n",
    "\n",
    "grade_probability = {}.fromkeys(unique_grades)\n",
    "for grade in grade_freq:\n",
    "    grade_probability[grade] = grade_freq[grade]/len(data)\n",
    "\n",
    "for grade in grade_probability:\n",
    "    print(grade, \":\", round(grade_probability[grade], 7))"
   ]
  },
  {
   "cell_type": "markdown",
   "metadata": {},
   "source": [
    "## For ubuntu\n",
    "\n",
    "`sudo python -m pip install numpy`\n",
    "\n",
    "`sudo python -m pip install matplotlib`\n",
    "\n",
    "`sudo python -m pip install scipy`\n",
    "\n",
    "## For Mac OSX\n",
    "\n",
    "`python -m pip install numpy`\n",
    "\n",
    "`python -m pip install matplotlib`\n",
    "\n",
    "`python -m pip install scipy`\n"
   ]
  },
  {
   "cell_type": "code",
   "execution_count": 33,
   "metadata": {},
   "outputs": [
    {
     "name": "stdout",
     "output_type": "stream",
     "text": [
      "Method code 12\n",
      "function code 12\n"
     ]
    }
   ],
   "source": [
    "class Thing:\n",
    "    def __init__(self, x):\n",
    "        self.x = x\n",
    "    def method(self):\n",
    "        return self.x + 5\n",
    "    \n",
    "thing = Thing(7)\n",
    "print(\"Method code\", thing.method())\n",
    "\n",
    "def func(x):\n",
    "    return x+5\n",
    "\n",
    "print(\"function code\", func(7))"
   ]
  },
  {
   "cell_type": "code",
   "execution_count": 36,
   "metadata": {},
   "outputs": [
    {
     "name": "stdout",
     "output_type": "stream",
     "text": [
      "Number of methods for numpy array 161\n",
      "Number of methods for a python list 46\n",
      "Number of methods for numpy array 71\n",
      "Number of methods for a python list 11\n"
     ]
    }
   ],
   "source": [
    "arr = np.array([1])\n",
    "listing = [1]\n",
    "\n",
    "print(\"Number of methods for numpy array\", len(dir(arr)))\n",
    "print(\"Number of methods for a python list\", len(dir(listing)))\n",
    "\n",
    "print(\"Number of methods for numpy array\", len([elem for elem in dir(arr) if \"_\" not in elem]))\n",
    "print(\"Number of methods for a python list\", len([elem for elem in dir(listing) if \"_\" not in elem]))\n"
   ]
  },
  {
   "cell_type": "code",
   "execution_count": 38,
   "metadata": {},
   "outputs": [],
   "source": [
    "#help(stats.relfreq)"
   ]
  },
  {
   "cell_type": "code",
   "execution_count": 40,
   "metadata": {},
   "outputs": [
    {
     "data": {
      "text/plain": [
       "21"
      ]
     },
     "execution_count": 40,
     "metadata": {},
     "output_type": "execute_result"
    }
   ],
   "source": [
    "len(set(data))"
   ]
  },
  {
   "cell_type": "code",
   "execution_count": 16,
   "metadata": {},
   "outputs": [
    {
     "data": {
      "image/png": "[encoded data removed]",
      "text/plain": [
       "<matplotlib.figure.Figure at 0x7fb6d2c70f28>"
      ]
     },
     "metadata": {},
     "output_type": "display_data"
    }
   ],
   "source": [
    "from scipy import stats\n",
    "import numpy as np\n",
    "import matplotlib.pyplot as plt\n",
    "%matplotlib inline\n",
    "\n",
    "np_data = np.array(data)\n",
    "res = stats.relfreq(np_data, numbins=10)\n",
    "x = res.lowerlimit + np.linspace(0, res.binsize*res.frequency.size, res.frequency.size)\n",
    "\n",
    "fig = plt.figure(figsize=(7, 4))\n",
    "ax = fig.add_subplot(1, 1, 1)\n",
    "ax.bar(x, res.frequency, width=res.binsize)\n",
    "ax.set_title('Relative frequency histogram')\n",
    "\n",
    "plt.show()\n"
   ]
  },
  {
   "cell_type": "markdown",
   "metadata": {},
   "source": [
    "# Question Two\n",
    "\n",
    "## What can we do with these probabilities?"
   ]
  },
  {
   "cell_type": "code",
   "execution_count": 19,
   "metadata": {},
   "outputs": [
    {
     "data": {
      "text/plain": [
       "(90.01579999999998, 90.0158)"
      ]
     },
     "execution_count": 19,
     "metadata": {},
     "output_type": "execute_result"
    }
   ],
   "source": [
    "mean_one = sum([grade*grade_probability[grade] for grade in grade_probability])\n",
    "mean_two = sum(data)/len(data)\n",
    "mean_one, mean_two"
   ]
  },
  {
   "cell_type": "code",
   "execution_count": 24,
   "metadata": {},
   "outputs": [
    {
     "name": "stdout",
     "output_type": "stream",
     "text": [
      "+-------------+-------+--------+--------+--------+--------+--------+--------+--------+--------+--------+\n",
      "|   Outcome   |   80  |   81   |   82   |   83   |   84   |   85   |   86   |   87   |   88   |   89   |\n",
      "+-------------+-------+--------+--------+--------+--------+--------+--------+--------+--------+--------+\n",
      "| Probability | 0.047 | 0.0461 | 0.0451 | 0.0505 | 0.0493 | 0.0484 | 0.0498 | 0.0463 | 0.0453 | 0.0466 |\n",
      "+-------------+-------+--------+--------+--------+--------+--------+--------+--------+--------+--------+\n"
     ]
    }
   ],
   "source": [
    "outcome = [grade for grade in grade_probability]\n",
    "probability = [grade_probability[grade] for grade in grade_probability]\n",
    "p = PrettyTable([\"Outcome\"] + outcome[:10])\n",
    "p.add_row([\"Probability\"] + probability[:10])\n",
    "print(p)"
   ]
  },
  {
   "cell_type": "code",
   "execution_count": 25,
   "metadata": {},
   "outputs": [
    {
     "name": "stdout",
     "output_type": "stream",
     "text": [
      "+-------------+--------+--------+--------+--------+--------+--------+--------+--------+-------+--------+-------+\n",
      "|   Outcome   |   90   |   91   |   92   |   93   |   94   |   95   |   96   |   97   |   98  |   99   |  100  |\n",
      "+-------------+--------+--------+--------+--------+--------+--------+--------+--------+-------+--------+-------+\n",
      "| Probability | 0.0481 | 0.0472 | 0.0477 | 0.0481 | 0.0458 | 0.0512 | 0.0467 | 0.0472 | 0.047 | 0.0506 | 0.046 |\n",
      "+-------------+--------+--------+--------+--------+--------+--------+--------+--------+-------+--------+-------+\n"
     ]
    }
   ],
   "source": [
    "outcome = [grade for grade in grade_probability]\n",
    "probability = [grade_probability[grade] for grade in grade_probability]\n",
    "p = PrettyTable([\"Outcome\"] + outcome[10:])\n",
    "p.add_row([\"Probability\"] + probability[10:])\n",
    "print(p)"
   ]
  },
  {
   "cell_type": "markdown",
   "metadata": {},
   "source": [
    "# Question Three\n",
    "\n",
    "## What are some properties of these probabilities?"
   ]
  },
  {
   "cell_type": "code",
   "execution_count": 26,
   "metadata": {},
   "outputs": [
    {
     "data": {
      "text/plain": [
       "1.0"
      ]
     },
     "execution_count": 26,
     "metadata": {},
     "output_type": "execute_result"
    }
   ],
   "source": [
    "sum(probability)"
   ]
  },
  {
   "cell_type": "code",
   "execution_count": 29,
   "metadata": {},
   "outputs": [
    {
     "data": {
      "text/plain": [
       "90.01579999999998"
      ]
     },
     "execution_count": 29,
     "metadata": {},
     "output_type": "execute_result"
    }
   ],
   "source": [
    "expected_value = sum([outcome[idx]*probability[idx] for idx in range(len(outcome))])\n",
    "expected_value"
   ]
  },
  {
   "cell_type": "code",
   "execution_count": 30,
   "metadata": {},
   "outputs": [
    {
     "data": {
      "text/plain": [
       "36.605150359999996"
      ]
     },
     "execution_count": 30,
     "metadata": {},
     "output_type": "execute_result"
    }
   ],
   "source": [
    "variance = sum([math.pow(outcome[idx]-expected_value, 2)*probability[idx] for idx in range(len(outcome))])\n",
    "variance"
   ]
  },
  {
   "cell_type": "code",
   "execution_count": 31,
   "metadata": {},
   "outputs": [
    {
     "data": {
      "text/plain": [
       "6.050219034051577"
      ]
     },
     "execution_count": 31,
     "metadata": {},
     "output_type": "execute_result"
    }
   ],
   "source": [
    "math.pow(variance, 0.5)"
   ]
  },
  {
   "cell_type": "code",
   "execution_count": null,
   "metadata": {},
   "outputs": [],
   "source": []
  }
 ],
 "metadata": {
  "kernelspec": {
   "display_name": "Python 3",
   "language": "python",
   "name": "python3"
  },
  "language_info": {
   "codemirror_mode": {
    "name": "ipython",
    "version": 3
   },
   "file_extension": ".py",
   "mimetype": "text/x-python",
   "name": "python",
   "nbconvert_exporter": "python",
   "pygments_lexer": "ipython3",
   "version": "3.6.3"
  }
 },
 "nbformat": 4,
 "nbformat_minor": 2
}
